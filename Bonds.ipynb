{
 "cells": [
  {
   "cell_type": "code",
   "execution_count": 1,
   "id": "86413078",
   "metadata": {},
   "outputs": [],
   "source": [
    "import numpy as np\n",
    "import pandas as pd"
   ]
  },
  {
   "cell_type": "code",
   "execution_count": 16,
   "id": "f8adb102",
   "metadata": {},
   "outputs": [
    {
     "data": {
      "text/plain": [
       "array([ 98.80079051, 104.42348546, 103.31892213,  98.2037781 ,\n",
       "       102.54586615,  98.23811484, 103.20822182, 102.61413791,\n",
       "       104.75909526,  96.17893185, 104.97489147, 103.13116913,\n",
       "        98.26466   ,  95.60383504, 101.40670942, 102.47972984,\n",
       "        97.36352989, 101.45785741, 101.80789155,  98.00601157,\n",
       "       102.4214705 ,  98.74677544,  99.45440886, 100.5390276 ,\n",
       "       103.62918178, 100.41778216, 102.12071717, 100.96410006,\n",
       "        96.29518831, 101.37445135, 102.41827682,  96.64880008,\n",
       "        96.72166764, 102.56183117, 103.348281  ,  99.36355713,\n",
       "       104.92079269, 103.95943751,  98.56312671,  98.38593763,\n",
       "        97.57659265, 103.25184342,  97.58396861, 103.07907003,\n",
       "       102.80269881,  99.21022101,  98.25774257, 101.33365874,\n",
       "        99.76759619,  97.05539623, 104.2282368 ,  95.11284331,\n",
       "        99.08350074,  99.83220006, 102.92427126, 103.34553583,\n",
       "        97.23246321,  95.3984885 , 104.28090918,  99.5880473 ,\n",
       "       103.40139361, 101.46950939, 101.16292145, 102.1269781 ,\n",
       "        97.83866401, 103.45701325,  95.2854198 ,  96.57796755,\n",
       "       100.81227744, 103.54113642,  99.43539495, 103.29763536,\n",
       "        98.55570295,  97.67193596,  99.49264456, 104.37040316,\n",
       "       100.29068462,  98.13793972,  98.01464358,  99.42464541,\n",
       "        97.71735397,  96.53245332, 103.30744666, 104.98479889,\n",
       "        99.03766231,  96.3293831 ,  98.58147095,  98.6915986 ,\n",
       "       104.71584737, 100.93776307, 100.03932212,  98.90604459,\n",
       "        97.58084234,  95.93358522,  96.61446958, 103.15322394,\n",
       "        97.60992037, 101.42738105, 103.2790968 , 100.20639893])"
      ]
     },
     "execution_count": 16,
     "metadata": {},
     "output_type": "execute_result"
    }
   ],
   "source": [
    "bond_prices = np.random.uniform(95, 105, size = (100,))\n",
    "bond_prices"
   ]
  },
  {
   "cell_type": "code",
   "execution_count": 17,
   "id": "dadb9f27",
   "metadata": {},
   "outputs": [
    {
     "data": {
      "text/plain": [
       "array([4.69702766, 4.24459395, 3.91820121, 5.11394714, 4.72939442,\n",
       "       4.6621585 , 3.2865801 , 2.62053963, 3.01279419, 3.4522313 ,\n",
       "       2.71592653, 4.92473693, 4.31688202, 5.10869693, 5.30612826,\n",
       "       2.88024131, 4.34813347, 3.60127122, 3.69477166, 3.22399106,\n",
       "       3.07844846, 3.08143288, 2.52249609, 2.76958433, 4.53916164,\n",
       "       4.54609884, 5.47880293, 3.03863311, 3.45947485, 2.75489267,\n",
       "       3.41037538, 4.56053815, 2.61782257, 3.44937854, 2.88270878,\n",
       "       4.35966328, 2.77158101, 4.32669342, 2.70329333, 3.01947014,\n",
       "       3.39906039, 4.51192978, 3.9421754 , 3.6549651 , 4.3004172 ,\n",
       "       3.10227818, 4.47686063, 4.53373654, 2.83216382, 4.31748349,\n",
       "       2.92779265, 3.58129896, 3.34881488, 3.66105713, 4.81125805,\n",
       "       4.90048043, 4.66008027, 4.63120428, 4.18698533, 3.41769067,\n",
       "       5.17112076, 5.21002196, 2.77741437, 5.00261398, 5.22588741,\n",
       "       4.00455866, 3.65882716, 2.56009907, 5.05745568, 3.18102007,\n",
       "       5.2819627 , 3.01894742, 3.83363847, 3.90894776, 4.93493896,\n",
       "       2.82264248, 5.27561947, 2.5211518 , 3.35430937, 3.00809342,\n",
       "       4.95058234, 3.35685036, 2.62863375, 3.78928712, 4.70821795,\n",
       "       5.35771147, 5.20666055, 2.59895619, 3.57777661, 4.77678514,\n",
       "       4.95939748, 3.65577   , 5.38843363, 2.94666987, 5.49462716,\n",
       "       4.18658549, 4.62923933, 5.17173332, 3.70696497, 4.87112427])"
      ]
     },
     "execution_count": 17,
     "metadata": {},
     "output_type": "execute_result"
    }
   ],
   "source": [
    "coupon_rates = np.random.uniform(2.5, 5.5, size = (100,))\n",
    "coupon_rates"
   ]
  },
  {
   "cell_type": "code",
   "execution_count": 18,
   "id": "6aebc0af",
   "metadata": {},
   "outputs": [
    {
     "data": {
      "text/plain": [
       "array([100., 100., 100., 100., 100., 100., 100., 100., 100., 100., 100.,\n",
       "       100., 100., 100., 100., 100., 100., 100., 100., 100., 100., 100.,\n",
       "       100., 100., 100., 100., 100., 100., 100., 100., 100., 100., 100.,\n",
       "       100., 100., 100., 100., 100., 100., 100., 100., 100., 100., 100.,\n",
       "       100., 100., 100., 100., 100., 100., 100., 100., 100., 100., 100.,\n",
       "       100., 100., 100., 100., 100., 100., 100., 100., 100., 100., 100.,\n",
       "       100., 100., 100., 100., 100., 100., 100., 100., 100., 100., 100.,\n",
       "       100., 100., 100., 100., 100., 100., 100., 100., 100., 100., 100.,\n",
       "       100., 100., 100., 100., 100., 100., 100., 100., 100., 100., 100.,\n",
       "       100.])"
      ]
     },
     "execution_count": 18,
     "metadata": {},
     "output_type": "execute_result"
    }
   ],
   "source": [
    "face_values = np.array([100.0] * 100)\n",
    "face_values"
   ]
  },
  {
   "cell_type": "code",
   "execution_count": 19,
   "id": "61f1552d",
   "metadata": {},
   "outputs": [
    {
     "data": {
      "text/plain": [
       "['ARG', 'AUS', 'CAN', 'GMNY', 'IND', 'JPN', 'NZ', 'RSA', 'UK', 'US']"
      ]
     },
     "execution_count": 19,
     "metadata": {},
     "output_type": "execute_result"
    }
   ],
   "source": [
    "countries = sorted([\"ARG\", \"AUS\", \"US\", \"IND\", \"UK\", \"CAN\", \"JPN\", \"NZ\", \"GMNY\", \"RSA\"])\n",
    "countries"
   ]
  },
  {
   "cell_type": "code",
   "execution_count": 20,
   "id": "12979ddc",
   "metadata": {},
   "outputs": [
    {
     "data": {
      "text/plain": [
       "array([ 0.5,  1. ,  1.5,  2. ,  2.5,  3. ,  3.5,  4. ,  4.5,  5. ,  5.5,\n",
       "        6. ,  6.5,  7. ,  7.5,  8. ,  8.5,  9. ,  9.5, 10. ])"
      ]
     },
     "execution_count": 20,
     "metadata": {},
     "output_type": "execute_result"
    }
   ],
   "source": [
    "time_ranges = np.arange(0.5, 10.5, 0.5)\n",
    "time_ranges"
   ]
  },
  {
   "cell_type": "code",
   "execution_count": 21,
   "id": "8d3ddbb7",
   "metadata": {},
   "outputs": [
    {
     "data": {
      "text/plain": [
       "{'ARG': array([6. , 4. , 5. , 5.5, 8.5, 4.5, 1.5, 2.5, 6.5, 2. ]),\n",
       " 'AUS': array([7.5, 7. , 9.5, 8. , 2.5, 3. , 9. , 6.5, 4.5, 6. ]),\n",
       " 'CAN': array([5.5, 4.5, 4. , 2.5, 8. , 5. , 6. , 9.5, 3.5, 3. ]),\n",
       " 'GMNY': array([3.5, 6. , 4.5, 9. , 4. , 2.5, 5.5, 8. , 9.5, 5. ]),\n",
       " 'IND': array([ 5.5,  0.5,  8. , 10. ,  9. ,  7. ,  7.5,  2. ,  4.5,  3.5]),\n",
       " 'JPN': array([ 7. ,  4. ,  5. , 10. ,  1. ,  3.5,  1.5,  4.5,  9. ,  7.5]),\n",
       " 'NZ': array([10. ,  4. ,  5. ,  3.5,  2.5,  8.5,  9.5,  9. ,  5.5,  2. ]),\n",
       " 'RSA': array([ 2. ,  7.5,  3.5,  4.5,  8.5,  9.5,  0.5, 10. ,  6. ,  1.5]),\n",
       " 'UK': array([4. , 9. , 9.5, 8.5, 3.5, 2. , 5.5, 6.5, 1. , 7.5]),\n",
       " 'US': array([6. , 7. , 1. , 1.5, 5. , 9.5, 4.5, 8. , 9. , 4. ])}"
      ]
     },
     "execution_count": 21,
     "metadata": {},
     "output_type": "execute_result"
    }
   ],
   "source": [
    "country_times = dict()\n",
    "for country in countries:\n",
    "    country_times[country] = np.random.choice(time_ranges, 10, replace = False)\n",
    "country_times"
   ]
  },
  {
   "cell_type": "code",
   "execution_count": 22,
   "id": "f8e66cf3",
   "metadata": {},
   "outputs": [
    {
     "name": "stdout",
     "output_type": "stream",
     "text": [
      "['ARG 6.0Y', 'ARG 4.0Y', 'ARG 5.0Y', 'ARG 5.5Y', 'ARG 8.5Y', 'ARG 4.5Y', 'ARG 1.5Y', 'ARG 2.5Y', 'ARG 6.5Y', 'ARG 2.0Y', 'AUS 7.5Y', 'AUS 7.0Y', 'AUS 9.5Y', 'AUS 8.0Y', 'AUS 2.5Y', 'AUS 3.0Y', 'AUS 9.0Y', 'AUS 6.5Y', 'AUS 4.5Y', 'AUS 6.0Y', 'CAN 5.5Y', 'CAN 4.5Y', 'CAN 4.0Y', 'CAN 2.5Y', 'CAN 8.0Y', 'CAN 5.0Y', 'CAN 6.0Y', 'CAN 9.5Y', 'CAN 3.5Y', 'CAN 3.0Y', 'GMNY 3.5Y', 'GMNY 6.0Y', 'GMNY 4.5Y', 'GMNY 9.0Y', 'GMNY 4.0Y', 'GMNY 2.5Y', 'GMNY 5.5Y', 'GMNY 8.0Y', 'GMNY 9.5Y', 'GMNY 5.0Y', 'IND 5.5Y', 'IND 0.5Y', 'IND 8.0Y', 'IND 10.0Y', 'IND 9.0Y', 'IND 7.0Y', 'IND 7.5Y', 'IND 2.0Y', 'IND 4.5Y', 'IND 3.5Y', 'JPN 7.0Y', 'JPN 4.0Y', 'JPN 5.0Y', 'JPN 10.0Y', 'JPN 1.0Y', 'JPN 3.5Y', 'JPN 1.5Y', 'JPN 4.5Y', 'JPN 9.0Y', 'JPN 7.5Y', 'NZ 10.0Y', 'NZ 4.0Y', 'NZ 5.0Y', 'NZ 3.5Y', 'NZ 2.5Y', 'NZ 8.5Y', 'NZ 9.5Y', 'NZ 9.0Y', 'NZ 5.5Y', 'NZ 2.0Y', 'RSA 2.0Y', 'RSA 7.5Y', 'RSA 3.5Y', 'RSA 4.5Y', 'RSA 8.5Y', 'RSA 9.5Y', 'RSA 0.5Y', 'RSA 10.0Y', 'RSA 6.0Y', 'RSA 1.5Y', 'UK 4.0Y', 'UK 9.0Y', 'UK 9.5Y', 'UK 8.5Y', 'UK 3.5Y', 'UK 2.0Y', 'UK 5.5Y', 'UK 6.5Y', 'UK 1.0Y', 'UK 7.5Y', 'US 6.0Y', 'US 7.0Y', 'US 1.0Y', 'US 1.5Y', 'US 5.0Y', 'US 9.5Y', 'US 4.5Y', 'US 8.0Y', 'US 9.0Y', 'US 4.0Y']\n"
     ]
    }
   ],
   "source": [
    "asset_id = list()\n",
    "for country in country_times:\n",
    "    for year in country_times[country]:\n",
    "        asset_id.append(country + \" \" + str(year) + \"Y\")\n",
    "\n",
    "print(asset_id)"
   ]
  },
  {
   "cell_type": "code",
   "execution_count": 23,
   "id": "394f9b68",
   "metadata": {},
   "outputs": [
    {
     "data": {
      "text/plain": [
       "100"
      ]
     },
     "execution_count": 23,
     "metadata": {},
     "output_type": "execute_result"
    }
   ],
   "source": [
    "len(set(asset_id))"
   ]
  },
  {
   "cell_type": "code",
   "execution_count": 24,
   "id": "100a25e4",
   "metadata": {},
   "outputs": [],
   "source": [
    "time_periods = list()\n",
    "for country in country_times:\n",
    "    for year in country_times[country]:\n",
    "        time_periods.append(year)"
   ]
  },
  {
   "cell_type": "code",
   "execution_count": 25,
   "id": "f6d9f814",
   "metadata": {},
   "outputs": [],
   "source": [
    "df_dict = {\n",
    "    \"asset_id\" : asset_id,\n",
    "    \"bond_price\" : bond_prices,\n",
    "    \"coupon_rate\" : coupon_rates,\n",
    "    \"face_value\" : face_values,\n",
    "    \"time_period\" : time_periods\n",
    "}"
   ]
  },
  {
   "cell_type": "code",
   "execution_count": 26,
   "id": "3cdb397f",
   "metadata": {},
   "outputs": [],
   "source": [
    "bond_data = pd.DataFrame(df_dict)"
   ]
  },
  {
   "cell_type": "code",
   "execution_count": 27,
   "id": "772e260c",
   "metadata": {},
   "outputs": [
    {
     "data": {
      "text/html": [
       "<div>\n",
       "<style scoped>\n",
       "    .dataframe tbody tr th:only-of-type {\n",
       "        vertical-align: middle;\n",
       "    }\n",
       "\n",
       "    .dataframe tbody tr th {\n",
       "        vertical-align: top;\n",
       "    }\n",
       "\n",
       "    .dataframe thead th {\n",
       "        text-align: right;\n",
       "    }\n",
       "</style>\n",
       "<table border=\"1\" class=\"dataframe\">\n",
       "  <thead>\n",
       "    <tr style=\"text-align: right;\">\n",
       "      <th></th>\n",
       "      <th>asset_id</th>\n",
       "      <th>bond_price</th>\n",
       "      <th>coupon_rate</th>\n",
       "      <th>face_value</th>\n",
       "      <th>time_period</th>\n",
       "    </tr>\n",
       "  </thead>\n",
       "  <tbody>\n",
       "    <tr>\n",
       "      <th>0</th>\n",
       "      <td>ARG 6.0Y</td>\n",
       "      <td>98.800791</td>\n",
       "      <td>4.697028</td>\n",
       "      <td>100.0</td>\n",
       "      <td>6.0</td>\n",
       "    </tr>\n",
       "    <tr>\n",
       "      <th>1</th>\n",
       "      <td>ARG 4.0Y</td>\n",
       "      <td>104.423485</td>\n",
       "      <td>4.244594</td>\n",
       "      <td>100.0</td>\n",
       "      <td>4.0</td>\n",
       "    </tr>\n",
       "    <tr>\n",
       "      <th>2</th>\n",
       "      <td>ARG 5.0Y</td>\n",
       "      <td>103.318922</td>\n",
       "      <td>3.918201</td>\n",
       "      <td>100.0</td>\n",
       "      <td>5.0</td>\n",
       "    </tr>\n",
       "    <tr>\n",
       "      <th>3</th>\n",
       "      <td>ARG 5.5Y</td>\n",
       "      <td>98.203778</td>\n",
       "      <td>5.113947</td>\n",
       "      <td>100.0</td>\n",
       "      <td>5.5</td>\n",
       "    </tr>\n",
       "    <tr>\n",
       "      <th>4</th>\n",
       "      <td>ARG 8.5Y</td>\n",
       "      <td>102.545866</td>\n",
       "      <td>4.729394</td>\n",
       "      <td>100.0</td>\n",
       "      <td>8.5</td>\n",
       "    </tr>\n",
       "  </tbody>\n",
       "</table>\n",
       "</div>"
      ],
      "text/plain": [
       "   asset_id  bond_price  coupon_rate  face_value  time_period\n",
       "0  ARG 6.0Y   98.800791     4.697028       100.0          6.0\n",
       "1  ARG 4.0Y  104.423485     4.244594       100.0          4.0\n",
       "2  ARG 5.0Y  103.318922     3.918201       100.0          5.0\n",
       "3  ARG 5.5Y   98.203778     5.113947       100.0          5.5\n",
       "4  ARG 8.5Y  102.545866     4.729394       100.0          8.5"
      ]
     },
     "execution_count": 27,
     "metadata": {},
     "output_type": "execute_result"
    }
   ],
   "source": [
    "bond_data.head()"
   ]
  },
  {
   "cell_type": "code",
   "execution_count": 28,
   "id": "5208f8bf",
   "metadata": {},
   "outputs": [
    {
     "data": {
      "text/html": [
       "<div>\n",
       "<style scoped>\n",
       "    .dataframe tbody tr th:only-of-type {\n",
       "        vertical-align: middle;\n",
       "    }\n",
       "\n",
       "    .dataframe tbody tr th {\n",
       "        vertical-align: top;\n",
       "    }\n",
       "\n",
       "    .dataframe thead th {\n",
       "        text-align: right;\n",
       "    }\n",
       "</style>\n",
       "<table border=\"1\" class=\"dataframe\">\n",
       "  <thead>\n",
       "    <tr style=\"text-align: right;\">\n",
       "      <th></th>\n",
       "      <th>asset_id</th>\n",
       "      <th>bond_price</th>\n",
       "      <th>coupon_rate</th>\n",
       "      <th>face_value</th>\n",
       "      <th>time_period</th>\n",
       "    </tr>\n",
       "  </thead>\n",
       "  <tbody>\n",
       "    <tr>\n",
       "      <th>0</th>\n",
       "      <td>ARG 6.0Y</td>\n",
       "      <td>98.801</td>\n",
       "      <td>4.697</td>\n",
       "      <td>100.0</td>\n",
       "      <td>6.0</td>\n",
       "    </tr>\n",
       "    <tr>\n",
       "      <th>1</th>\n",
       "      <td>ARG 4.0Y</td>\n",
       "      <td>104.423</td>\n",
       "      <td>4.245</td>\n",
       "      <td>100.0</td>\n",
       "      <td>4.0</td>\n",
       "    </tr>\n",
       "    <tr>\n",
       "      <th>2</th>\n",
       "      <td>ARG 5.0Y</td>\n",
       "      <td>103.319</td>\n",
       "      <td>3.918</td>\n",
       "      <td>100.0</td>\n",
       "      <td>5.0</td>\n",
       "    </tr>\n",
       "    <tr>\n",
       "      <th>3</th>\n",
       "      <td>ARG 5.5Y</td>\n",
       "      <td>98.204</td>\n",
       "      <td>5.114</td>\n",
       "      <td>100.0</td>\n",
       "      <td>5.5</td>\n",
       "    </tr>\n",
       "    <tr>\n",
       "      <th>4</th>\n",
       "      <td>ARG 8.5Y</td>\n",
       "      <td>102.546</td>\n",
       "      <td>4.729</td>\n",
       "      <td>100.0</td>\n",
       "      <td>8.5</td>\n",
       "    </tr>\n",
       "  </tbody>\n",
       "</table>\n",
       "</div>"
      ],
      "text/plain": [
       "   asset_id  bond_price  coupon_rate  face_value  time_period\n",
       "0  ARG 6.0Y      98.801        4.697       100.0          6.0\n",
       "1  ARG 4.0Y     104.423        4.245       100.0          4.0\n",
       "2  ARG 5.0Y     103.319        3.918       100.0          5.0\n",
       "3  ARG 5.5Y      98.204        5.114       100.0          5.5\n",
       "4  ARG 8.5Y     102.546        4.729       100.0          8.5"
      ]
     },
     "execution_count": 28,
     "metadata": {},
     "output_type": "execute_result"
    }
   ],
   "source": [
    "bond_data['bond_price'] = bond_data['bond_price'].round(3)\n",
    "bond_data['coupon_rate'] = bond_data['coupon_rate'].round(3)\n",
    "bond_data.head()"
   ]
  },
  {
   "cell_type": "code",
   "execution_count": 29,
   "id": "07b1ad7b",
   "metadata": {},
   "outputs": [],
   "source": [
    "writer = pd.ExcelWriter('bond_data.xlsx')\n",
    "bond_data.to_excel(writer, index = False)\n",
    "writer.save()"
   ]
  },
  {
   "cell_type": "code",
   "execution_count": 30,
   "id": "97d74c0d",
   "metadata": {},
   "outputs": [],
   "source": [
    "bond_data.to_csv(\"bond_data.csv\", index = False)"
   ]
  },
  {
   "cell_type": "code",
   "execution_count": null,
   "id": "bca35461",
   "metadata": {},
   "outputs": [],
   "source": []
  },
  {
   "cell_type": "code",
   "execution_count": null,
   "id": "08d8c6e3",
   "metadata": {},
   "outputs": [],
   "source": []
  }
 ],
 "metadata": {
  "kernelspec": {
   "display_name": "Python 3 (ipykernel)",
   "language": "python",
   "name": "python3"
  },
  "language_info": {
   "codemirror_mode": {
    "name": "ipython",
    "version": 3
   },
   "file_extension": ".py",
   "mimetype": "text/x-python",
   "name": "python",
   "nbconvert_exporter": "python",
   "pygments_lexer": "ipython3",
   "version": "3.9.13"
  }
 },
 "nbformat": 4,
 "nbformat_minor": 5
}
